{
  "nbformat": 4,
  "nbformat_minor": 0,
  "metadata": {
    "colab": {
      "name": "EJERCICIOS TALLER",
      "provenance": [],
      "collapsed_sections": []
    },
    "kernelspec": {
      "name": "python3",
      "display_name": "Python 3"
    },
    "language_info": {
      "name": "python"
    }
  },
  "cells": [
    {
      "cell_type": "markdown",
      "source": [
        "SHIOBAM VALENTINA ESPITIA PRADA"
      ],
      "metadata": {
        "id": "bAIeCCBpf2kP"
      }
    },
    {
      "cell_type": "markdown",
      "source": [
        "PRIMER PUNTO"
      ],
      "metadata": {
        "id": "61W8t9JKp6qX"
      }
    },
    {
      "cell_type": "code",
      "source": [
        "def datos():\n",
        "  primern = (input(\"Escriba su primer nombre: \"))\n",
        "  segundon = (input(\"Si tiene segundo nombre diga Si de lo contrario diga No: \"))\n",
        "  if segundon == \"Si\":\n",
        "    segundo = (input(\"Escriba su segundo nombre: \"))\n",
        "  PrimerA = input(\"Escriba su primer apellido: \")\n",
        "  seg = (input(\"Si tiene segundo apellido diga Si de lo contrario diga No: \")) \n",
        "  if seg == \"Si\":\n",
        "    SegAp =str((input(\"Escriba su segundo apellido: \")))\n",
        "  Edad = int(input(\"Escriba su edad: \"))\n",
        "  iden_via = input(\"Escriba la identificacion de la vida: \")\n",
        "  num_via = int(input(\"Escriba el numero que acompaña a la via: \"))\n",
        "  marca_num1 = int(input(\"Escriba el numero de marca 1: \"))\n",
        "  letra = input(\"Escriba la letra luego del numero: \")\n",
        "  marca_num2 = int(input(\"Escriba el numero de marca 2: \"))\n",
        "  casa = (input(\"Escriba numero de casa: \"))\n",
        "  if segundon == \"No\" and seg == \"No\":\n",
        "    print(f\"Su hombre es {primern} {PrimerA} su edad es {Edad} y\\nLa direccion es {iden_via} {num_via} # {marca_num1}{letra} - {marca_num2} y la casa es {casa}\" )\n",
        "  if segundon == \"No\":\n",
        "    print(f\"Su hombre es {primern} {PrimerA} {SegAp} su edad es {Edad} y\\nLa direccion es {iden_via} {num_via} # {marca_num1}{letra} - {marca_num2} y la casa es {casa}\" )\n",
        "  if seg == \"No\":\n",
        "    print(f\"Su hombre es {primern} {segundo} {PrimerA} su edad es {Edad} y\\nLa direccion es {iden_via} {num_via} # {marca_num1}{letra} - {marca_num2} y la casa es {casa}\" )\n",
        "  else:\n",
        "    print(f\"Su hombre es {primern} {segundo} {PrimerA} {SegAp} su edad es {Edad} y\\nLa direccion es {iden_via} {num_via} # {marca_num1}{letra} - {marca_num2} y la casa es {casa}\" )\n",
        "\n",
        "\n",
        "  "
      ],
      "metadata": {
        "id": "mW47pZhTr9Bp"
      },
      "execution_count": 394,
      "outputs": []
    },
    {
      "cell_type": "code",
      "source": [
        "datos()"
      ],
      "metadata": {
        "colab": {
          "base_uri": "https://localhost:8080/"
        },
        "id": "5xS5fxCRiVR3",
        "outputId": "905277aa-d23e-4972-d50a-0b14864ec568"
      },
      "execution_count": 396,
      "outputs": [
        {
          "output_type": "stream",
          "name": "stdout",
          "text": [
            "Escriba su primer nombre: Shiobam\n",
            "Si tiene segundo nombre diga Si de lo contrario diga No: Si\n",
            "Escriba su segundo nombre: Valentina\n",
            "Escriba su primer apellido: Espitia\n",
            "Si tiene segundo apellido diga Si de lo contrario diga No: No\n",
            "Escriba su edad: 18\n",
            "Escriba la identificacion de la vida: Carrera\n",
            "Escriba el numero que acompaña a la via: 10\n",
            "Escriba el numero de marca 1: 15\n",
            "Escriba la letra luego del numero: d\n",
            "Escriba el numero de marca 2: 24\n",
            "Escriba numero de casa: apto 303\n",
            "Su hombre es Shiobam Valentina Espitia su edad es 18 y\n",
            "La direccion es Carrera 10 # 15d - 24 y la casa es apto 303\n"
          ]
        }
      ]
    },
    {
      "cell_type": "markdown",
      "source": [
        "SEGUNDO PUNTO"
      ],
      "metadata": {
        "id": "RBKzXJEMxQg7"
      }
    },
    {
      "cell_type": "code",
      "source": [
        "def Nombre():\n",
        "  n = (input(\"Escriba su nombre: \"))\n",
        "  resul = n\n",
        "  return f\"Hola {resul} \""
      ],
      "metadata": {
        "id": "SRdBbuYHxUwJ"
      },
      "execution_count": null,
      "outputs": []
    },
    {
      "cell_type": "code",
      "source": [
        "Nombre()"
      ],
      "metadata": {
        "colab": {
          "base_uri": "https://localhost:8080/",
          "height": 54
        },
        "id": "2mgY8TNmxwBp",
        "outputId": "cd4988cb-b39c-4453-be5f-e85d3345dd20"
      },
      "execution_count": null,
      "outputs": [
        {
          "name": "stdout",
          "output_type": "stream",
          "text": [
            "Escriba su nombre: Valentina\n"
          ]
        },
        {
          "output_type": "execute_result",
          "data": {
            "text/plain": [
              "'Hola: Valentina '"
            ],
            "application/vnd.google.colaboratory.intrinsic+json": {
              "type": "string"
            }
          },
          "metadata": {},
          "execution_count": 12
        }
      ]
    },
    {
      "cell_type": "markdown",
      "source": [
        "TERCER PUNTO"
      ],
      "metadata": {
        "id": "BbIcbZJHx4Gs"
      }
    },
    {
      "cell_type": "code",
      "source": [
        "def Area():\n",
        "  CmLados = int(input(\"Escriba cuanto mide uno de los lados del cuadrado: \"))\n",
        "  resul = CmLados**2\n",
        "  return f\"El area del cuadrado es: {resul} centimetros cuadrados\""
      ],
      "metadata": {
        "id": "F-sr72PGx8GU"
      },
      "execution_count": null,
      "outputs": []
    },
    {
      "cell_type": "code",
      "source": [
        "Area()"
      ],
      "metadata": {
        "colab": {
          "base_uri": "https://localhost:8080/",
          "height": 54
        },
        "id": "H-hIsgfizSKj",
        "outputId": "a1387486-e27e-40e6-ac00-73d6bda2077f"
      },
      "execution_count": null,
      "outputs": [
        {
          "name": "stdout",
          "output_type": "stream",
          "text": [
            "Escriba cuanto mide uno de los lados del cuadrado: 6\n"
          ]
        },
        {
          "output_type": "execute_result",
          "data": {
            "text/plain": [
              "'El area del cuadrado es: 36'"
            ],
            "application/vnd.google.colaboratory.intrinsic+json": {
              "type": "string"
            }
          },
          "metadata": {},
          "execution_count": 17
        }
      ]
    },
    {
      "cell_type": "markdown",
      "source": [
        "CUARTO PUNTO"
      ],
      "metadata": {
        "id": "gY282gnwzbPK"
      }
    },
    {
      "cell_type": "code",
      "source": [
        "def AreaRec():\n",
        "  Base = int(input(\"Escriba en cm la base del rectangulo: \"))\n",
        "  Altura = int(input(\"Escriba en cm la altura del rectangulo: \"))\n",
        "  resul = Base * Altura\n",
        "  return f\"El area del rectangulo es: {resul} centimetros cuadrados\""
      ],
      "metadata": {
        "id": "ADNeTVP2x3DU"
      },
      "execution_count": null,
      "outputs": []
    },
    {
      "cell_type": "code",
      "source": [
        "AreaRec()"
      ],
      "metadata": {
        "colab": {
          "base_uri": "https://localhost:8080/",
          "height": 72
        },
        "id": "qv-EoQWt0CB6",
        "outputId": "0a1c6084-993d-48d7-d84d-7f009228ef83"
      },
      "execution_count": null,
      "outputs": [
        {
          "name": "stdout",
          "output_type": "stream",
          "text": [
            "Escriba en cm la base del rectangulo: 15\n",
            "Escriba en cm la altura del rectangulo: 7\n"
          ]
        },
        {
          "output_type": "execute_result",
          "data": {
            "text/plain": [
              "'El area del rectangulo es: 105 centimetros cuadrados'"
            ],
            "application/vnd.google.colaboratory.intrinsic+json": {
              "type": "string"
            }
          },
          "metadata": {},
          "execution_count": 21
        }
      ]
    },
    {
      "cell_type": "markdown",
      "source": [
        "QUINTO PUNTO"
      ],
      "metadata": {
        "id": "CXTnAuxt0SQZ"
      }
    },
    {
      "cell_type": "code",
      "source": [
        "def AreaTria():\n",
        "  Base = int(input(\"Escriba en cm la base del triangulo: \"))\n",
        "  Altura = int(input(\"Escriba en cm la altura del triangulo: \"))\n",
        "  resul = int((Base * Altura)/2)\n",
        "  return f\"El area del triangulo es: {resul} centimetros cuadrados\""
      ],
      "metadata": {
        "id": "ghnUIZIy0Wfh"
      },
      "execution_count": null,
      "outputs": []
    },
    {
      "cell_type": "code",
      "source": [
        "AreaTria()"
      ],
      "metadata": {
        "colab": {
          "base_uri": "https://localhost:8080/",
          "height": 72
        },
        "id": "4L51_TkF0rbC",
        "outputId": "d887bb89-18ff-41ef-a6ee-0f14725ed03e"
      },
      "execution_count": null,
      "outputs": [
        {
          "name": "stdout",
          "output_type": "stream",
          "text": [
            "Escriba en cm la base del triangulo: 12\n",
            "Escriba en cm la altura del triangulo: 15\n"
          ]
        },
        {
          "output_type": "execute_result",
          "data": {
            "text/plain": [
              "'El area del triangulo es: 90 centimetros cuadrados'"
            ],
            "application/vnd.google.colaboratory.intrinsic+json": {
              "type": "string"
            }
          },
          "metadata": {},
          "execution_count": 27
        }
      ]
    },
    {
      "cell_type": "markdown",
      "source": [
        "SEXTO PUNTO"
      ],
      "metadata": {
        "id": "p9XM6jHT06S4"
      }
    },
    {
      "cell_type": "code",
      "source": [
        "def Botellas():\n",
        "  Bot1L = int(input(\"Escriba cuantas botellas de 1 litro reciclo: \"))\n",
        "  Bot1mL = int(input(\"Escriba cuantas botellas de 1.5 litros reciclo: \"))\n",
        "  Bot2L = int(input(\"Escriba cuantas botellas de 2 litros reciclo: \"))\n",
        "  resul = Bot1L * 1000 + Bot1mL * 2000 + Bot2L * 3000\n",
        "  return f\"Lo que el usuario debe recibir es: {resul}\"\n"
      ],
      "metadata": {
        "id": "zKT_KK8a08KQ"
      },
      "execution_count": null,
      "outputs": []
    },
    {
      "cell_type": "code",
      "source": [
        "Botellas()"
      ],
      "metadata": {
        "colab": {
          "base_uri": "https://localhost:8080/",
          "height": 90
        },
        "id": "CqbfmzX-3wjo",
        "outputId": "bc2cf454-8824-4aac-8867-7068bca65b8d"
      },
      "execution_count": null,
      "outputs": [
        {
          "name": "stdout",
          "output_type": "stream",
          "text": [
            "Escriba cuantas botellas de 1 litro reciclo: 10\n",
            "Escriba cuantas botellas de 1.5 litros reciclo: 10\n",
            "Escriba cuantas botellas de 2 litros reciclo: 30\n"
          ]
        },
        {
          "output_type": "execute_result",
          "data": {
            "text/plain": [
              "'Lo que el usuario debe recibir es: 120000'"
            ],
            "application/vnd.google.colaboratory.intrinsic+json": {
              "type": "string"
            }
          },
          "metadata": {},
          "execution_count": 44
        }
      ]
    },
    {
      "cell_type": "markdown",
      "source": [
        "SEPTIMO PUNTO"
      ],
      "metadata": {
        "id": "Ti54aoo033fv"
      }
    },
    {
      "cell_type": "code",
      "source": [
        "def Comida():\n",
        "  Valor = int(input(\"Escriba el costo de su comida: \"))\n",
        "  Propi = int(input(\"Escriba el valor de propina: \"))\n",
        "  resul = ((Propi/100)* Valor)+(Valor*0.08)+Valor\n",
        "  return f\"Su valor total es {resul}\""
      ],
      "metadata": {
        "id": "wQV9FFBo35xH"
      },
      "execution_count": null,
      "outputs": []
    },
    {
      "cell_type": "code",
      "source": [
        "Comida()"
      ],
      "metadata": {
        "colab": {
          "base_uri": "https://localhost:8080/",
          "height": 72
        },
        "id": "SaDGq2cm6GKA",
        "outputId": "e1d02218-a5bc-4621-a22f-88f63e90c8b4"
      },
      "execution_count": null,
      "outputs": [
        {
          "name": "stdout",
          "output_type": "stream",
          "text": [
            "Escriba el costo de su comida: 20000\n",
            "Escriba el valor de propina: 10\n"
          ]
        },
        {
          "output_type": "execute_result",
          "data": {
            "text/plain": [
              "'Su valor total es 23600.0'"
            ],
            "application/vnd.google.colaboratory.intrinsic+json": {
              "type": "string"
            }
          },
          "metadata": {},
          "execution_count": 38
        }
      ]
    },
    {
      "cell_type": "markdown",
      "source": [
        "OCTAVO PUNTO"
      ],
      "metadata": {
        "id": "uB5j-JDD6-6A"
      }
    },
    {
      "cell_type": "code",
      "source": [
        "def producto():\n",
        "  A = int(input(\"Escriba cuantos productos del A compro: \"))\n",
        "  B = int(input(\"Escriba cuantos productos del B compro: \")) \n",
        "  Peso = A*123 + B*35 \n",
        "  if Peso%2 == 0:\n",
        "    print(\"Su peso es par y es: \" , Peso )\n",
        "  else:\n",
        "    print(\"No es par y no le podemos vender si no es par, su peso es:\", Peso)\n",
        "    "
      ],
      "metadata": {
        "id": "LOifxLjl7A8_"
      },
      "execution_count": null,
      "outputs": []
    },
    {
      "cell_type": "code",
      "source": [
        "producto()"
      ],
      "metadata": {
        "colab": {
          "base_uri": "https://localhost:8080/"
        },
        "id": "mv7PQVtc86jQ",
        "outputId": "6e34e98d-d984-4502-f81e-384cd94145dc"
      },
      "execution_count": null,
      "outputs": [
        {
          "output_type": "stream",
          "name": "stdout",
          "text": [
            "Escriba cuantos productos del A compro: 1\n",
            "Escriba cuantos productos del B compro: 2\n",
            "No es par y no le podemos vender si no es par, su peso es: 193\n"
          ]
        }
      ]
    },
    {
      "cell_type": "markdown",
      "source": [
        "NOVENO PUNTO"
      ],
      "metadata": {
        "id": "DPdgqBKO9I1Q"
      }
    },
    {
      "cell_type": "code",
      "source": [
        "def parqueadero():\n",
        "  vehiculo = (input(\"¿Que tipo de vehiculo tiene:  \"))\n",
        "  if vehiculo == \"carro\":\n",
        "    vcarro = int(input(\"¿Cuantos minutos lleva su carro estacionado?: \"))\n",
        "    print(\"Su valor a pagar es:\", vcarro*70)\n",
        "    pago = int(input(\"¿Con cuanto dinero va a pagar?: \"))\n",
        "    print(\"Su cambio es: \", pago - (vcarro*70) )\n",
        "  elif vehiculo == \"moto\":\n",
        "    vmoto = int(input(\"¿Cuantos minutos lleva su moto estacionada?: \"))\n",
        "    print(\"Su valor a pagar es: \", vmoto*42)\n",
        "    pago1 = int(input(\"¿Con cuanto dinero va a pagar?: \"))\n",
        "    print(\"Su cambio es: \", pago1 - (vmoto*42) )\n",
        "  elif vehiculo == \"bicicleta\":\n",
        "    vbici = int(input(\"¿Cuantos minutos lleva su bicicleta estacionada?: \"))\n",
        "    print(\"Su valor a pagar es: \", vbici*10)\n",
        "    pago2 = int(input(\"¿Con cuanto dinero va a pagar?: \"))\n",
        "    print(\"Su cambio es: \", pago2 - (vbici*10) )\n",
        "\n"
      ],
      "metadata": {
        "id": "r4hoBn8W9KpB"
      },
      "execution_count": 24,
      "outputs": []
    },
    {
      "cell_type": "code",
      "source": [
        "parqueadero()"
      ],
      "metadata": {
        "colab": {
          "base_uri": "https://localhost:8080/"
        },
        "id": "96zm8MQkREVH",
        "outputId": "a755f831-3dbb-4559-82bf-a48bc1000844"
      },
      "execution_count": 25,
      "outputs": [
        {
          "output_type": "stream",
          "name": "stdout",
          "text": [
            "¿Que tipo de vehiculo tiene:  moto\n",
            "¿Cuantos minutos lleva su moto estacionada?: 160\n",
            "Su valor a pagar es:  6720\n",
            "¿Con cuanto dinero va a pagar?: 20000\n",
            "Su cambio es:  13280\n"
          ]
        }
      ]
    },
    {
      "cell_type": "markdown",
      "source": [
        "DECIMO PUNTO"
      ],
      "metadata": {
        "id": "9hpdULL9XYgq"
      }
    },
    {
      "cell_type": "code",
      "source": [
        "import numpy as np\n",
        "def Circulo():\n",
        "  radio = int(input(\"Escriba el radio de el circulo: \"))\n",
        "  perimetro = 2*np.pi*radio\n",
        "  area = np.pi*radio**2\n",
        "  return f\"El perimetro del circulo es: {perimetro} centimetros y su area es: {area} centimetros cuadrados\""
      ],
      "metadata": {
        "id": "-ux4CMB2YsDq"
      },
      "execution_count": 37,
      "outputs": []
    },
    {
      "cell_type": "code",
      "source": [
        "Circulo()"
      ],
      "metadata": {
        "colab": {
          "base_uri": "https://localhost:8080/",
          "height": 53
        },
        "id": "pOtrVqMTZ8oj",
        "outputId": "868f40c4-9d0b-43ef-e538-87de6136e862"
      },
      "execution_count": 38,
      "outputs": [
        {
          "name": "stdout",
          "output_type": "stream",
          "text": [
            "Escriba el radio de el circulo: 3\n"
          ]
        },
        {
          "output_type": "execute_result",
          "data": {
            "text/plain": [
              "'El perimetro del circulo es: 18.84955592153876 centimetros y su area es: 28.274333882308138 centimetros cuadrados'"
            ],
            "application/vnd.google.colaboratory.intrinsic+json": {
              "type": "string"
            }
          },
          "metadata": {},
          "execution_count": 38
        }
      ]
    },
    {
      "cell_type": "markdown",
      "source": [
        "DECIMO PRIMER PUNTO"
      ],
      "metadata": {
        "id": "4Q6WrQmEbH5y"
      }
    },
    {
      "cell_type": "code",
      "source": [
        "from datetime import datetime\n",
        "def Años():\n",
        "  fecha_nacimiento=(input(\"ingresa le fecha de tu nacimiento con el siguiente formato: DD/MM/YYYY\"))\n",
        "  \n",
        "  fecha_actual=datetime.today().strftime('%d/%m/%Y')\n",
        "  fecha_nacimiento=fecha_nacimiento.split('/')\n",
        "  fecha_actual=fecha_actual.split('/')\n",
        "  if int(fecha_actual[1]) > int(fecha_nacimiento[1]) or int(fecha_actual[1]) == int(fecha_nacimiento[1]) and int(fecha_actual[0]) >= int(fecha_nacimiento[0]):\n",
        "    years=int(fecha_actual[2])-int(fecha_nacimiento[2])\n",
        "    print('Tienes ' + str(years) + ' años')\n",
        "  else:\n",
        "    years=int(fecha_actual[2])-int(fecha_nacimiento[2])-1\n",
        "    print('Tienes ' + str(years) + ' años')"
      ],
      "metadata": {
        "id": "S_hBZaa9ie3o"
      },
      "execution_count": 94,
      "outputs": []
    },
    {
      "cell_type": "code",
      "source": [
        "Años()"
      ],
      "metadata": {
        "colab": {
          "base_uri": "https://localhost:8080/"
        },
        "id": "p2XOz0-MjNPt",
        "outputId": "0c088e1a-e3a8-44cc-8e51-ee8560ac488f"
      },
      "execution_count": 95,
      "outputs": [
        {
          "output_type": "stream",
          "name": "stdout",
          "text": [
            "ingresa le fecha de tu nacimiento con el siguiente formato: DD/MM/YYYY10/05/2001\n",
            "Tienes 20 años\n"
          ]
        }
      ]
    },
    {
      "cell_type": "markdown",
      "source": [
        "DECIMO SEGUNDO PUNTO"
      ],
      "metadata": {
        "id": "u1O80DlBnMis"
      }
    },
    {
      "cell_type": "code",
      "source": [
        "def Temperatura():\n",
        "  Cel = int(input(\"Escriba los grados en Celsius: \"))\n",
        "  Fahrenheit = Cel * 1.8 + 32\n",
        "  Kelvin = Cel + 273.15\n",
        "  return f\"Loa grados de Celsius a Fahrenheit son: {Fahrenheit} y de Celsius a Kelvin son: {Kelvin}\""
      ],
      "metadata": {
        "id": "FwQiEds1nOnN"
      },
      "execution_count": 100,
      "outputs": []
    },
    {
      "cell_type": "code",
      "source": [
        "Temperatura()"
      ],
      "metadata": {
        "colab": {
          "base_uri": "https://localhost:8080/",
          "height": 53
        },
        "id": "48voZoCxoWoi",
        "outputId": "de7bd17b-bad2-486e-b98a-08e52feaa458"
      },
      "execution_count": 101,
      "outputs": [
        {
          "name": "stdout",
          "output_type": "stream",
          "text": [
            "Escriba los grados en Celsius: 100\n"
          ]
        },
        {
          "output_type": "execute_result",
          "data": {
            "text/plain": [
              "'Loa grados de Celsius a Fahrenheit son: 212.0 y de Celsius a Kelvin son: 373.15'"
            ],
            "application/vnd.google.colaboratory.intrinsic+json": {
              "type": "string"
            }
          },
          "metadata": {},
          "execution_count": 101
        }
      ]
    },
    {
      "cell_type": "markdown",
      "source": [
        "DECIMO TERCER PUNTO"
      ],
      "metadata": {
        "id": "LFsoxTZ7o6gH"
      }
    },
    {
      "cell_type": "code",
      "source": [
        "lista= []\n",
        "cantidad = int(input(\"Cuantos datos desea agregar: \"))\n",
        "while cantidad>0:\n",
        "    dato = input(\"Ingrese sus datos: \")\n",
        "    lista.append(dato)\n",
        "    cantidad-=1\n",
        "print(\"Contenido lista\",lista)\n",
        "for i in range(len(lista)):\n",
        "    lista[i] = int(lista[i])\n",
        "lista.sort() \n",
        "Max = (max(lista))\n",
        "Min = (min(lista))\n",
        "Sum = (sum(lista))\n",
        "print(f\"El valor maximo es: {Max} el valor minimo es: {Min} y la suma de todos los elementos es {Sum}\")"
      ],
      "metadata": {
        "colab": {
          "base_uri": "https://localhost:8080/"
        },
        "id": "KgZPNuXUo9Mq",
        "outputId": "e586d3e2-72dc-45ee-f02b-aecd82d0d18b"
      },
      "execution_count": 186,
      "outputs": [
        {
          "output_type": "stream",
          "name": "stdout",
          "text": [
            "Cuantos datos desea agregar: 10\n",
            "Ingrese sus datos: 2\n",
            "Ingrese sus datos: 4\n",
            "Ingrese sus datos: 6\n",
            "Ingrese sus datos: 8\n",
            "Ingrese sus datos: 10\n",
            "Ingrese sus datos: 12\n",
            "Ingrese sus datos: 14\n",
            "Ingrese sus datos: 16\n",
            "Ingrese sus datos: 18\n",
            "Ingrese sus datos: 20\n",
            "Contenido lista ['2', '4', '6', '8', '10', '12', '14', '16', '18', '20']\n",
            "El valor maximo es: 20 el valor minimo es: 2 y la suma de todos los elementos es 110\n"
          ]
        }
      ]
    },
    {
      "cell_type": "markdown",
      "source": [
        "DECIMO CUARTO PUNTO"
      ],
      "metadata": {
        "id": "ec47bHQW_XuC"
      }
    },
    {
      "cell_type": "code",
      "source": [
        "def dias(mes):\n",
        "  if mes.lower() in (\"enero\", \"marzo\",\"mayo\",\"julio\",\"agosto\",\"octubre\",\"diciembre\"):\n",
        "    return \"31\"\n",
        "  elif mes.lower() == \"febrero\":\n",
        "    return \"28/29\"\n",
        "  else:\n",
        "    return \"30\"\n",
        "meses = input(\"Ingrese el mes: \")\n",
        "print(dias(meses))"
      ],
      "metadata": {
        "colab": {
          "base_uri": "https://localhost:8080/"
        },
        "id": "oSFTaK46_eNX",
        "outputId": "21b2ca21-4301-4452-a47d-42f1c5992424"
      },
      "execution_count": 210,
      "outputs": [
        {
          "output_type": "stream",
          "name": "stdout",
          "text": [
            "Ingrese el mes: septiembre\n",
            "30\n"
          ]
        }
      ]
    },
    {
      "cell_type": "markdown",
      "source": [
        "DECIMO QUINTO"
      ],
      "metadata": {
        "id": "J8mRyja4FXw9"
      }
    },
    {
      "cell_type": "code",
      "source": [
        "def edades():\n",
        "  n= int(input(\"Escriba su edad: \"))\n",
        "  if n<18:\n",
        "    print(\"MENOR DE EDAD\")\n",
        "  elif n > 18 and n< 45:\n",
        "    print(\"ADULTO JOVEN\")\n",
        "  elif n > 45 and n< 60:\n",
        "    print(\"ADULTO\")\n",
        "  elif n>60:\n",
        "    print(\"ADULTO MAYOR\")"
      ],
      "metadata": {
        "id": "wySB1kTdFXNJ"
      },
      "execution_count": 217,
      "outputs": []
    },
    {
      "cell_type": "code",
      "source": [
        "edades()"
      ],
      "metadata": {
        "colab": {
          "base_uri": "https://localhost:8080/"
        },
        "id": "mUtkqgTTJF93",
        "outputId": "e0c30063-fee9-4ad2-9e7c-34c793610d5b"
      },
      "execution_count": 221,
      "outputs": [
        {
          "output_type": "stream",
          "name": "stdout",
          "text": [
            "Escriba su edad: 46\n",
            "ADULTO\n"
          ]
        }
      ]
    },
    {
      "cell_type": "markdown",
      "source": [
        "DECIMO SEXTO"
      ],
      "metadata": {
        "id": "GKIVhZH_Jg7Q"
      }
    },
    {
      "cell_type": "code",
      "source": [
        "def Caras():\n",
        "  valor= int(input(\"Ingrese el valor de su billete: \"))\n",
        "  if valor == 1000:\n",
        "    print(\"La cara es: Jorge Eliecer Gaitan\")\n",
        "  elif valor == 2000:\n",
        "    print(\"La cara es: Francisco de Paula Santander\")\n",
        "  elif valor == 5000:\n",
        "    print(\"La cara es: Jose Asuncion Silva\")\n",
        "  elif valor == 10000:\n",
        "    print(\"La cara es: Policarpa Salavarrieta\")\n",
        "  elif valor == 20000:\n",
        "    print(\"La cara es: Julio Garavito Armero\")\n",
        "  elif valor == 50000:\n",
        "    print(\"La cara es: Jorge Isaacs\")\n",
        "  elif valor == 100000:\n",
        "    print(\"La cara es: Carlos Lleras Restrepo\")\n"
      ],
      "metadata": {
        "id": "cLbBoBWGJgPT"
      },
      "execution_count": 228,
      "outputs": []
    },
    {
      "cell_type": "code",
      "source": [
        "Caras()"
      ],
      "metadata": {
        "colab": {
          "base_uri": "https://localhost:8080/"
        },
        "id": "ENS-_fYQMAAG",
        "outputId": "390e8ea2-6d7f-4600-f344-159d09613475"
      },
      "execution_count": 231,
      "outputs": [
        {
          "output_type": "stream",
          "name": "stdout",
          "text": [
            "Ingrese el valor de su billete: 5000\n",
            "La cara es: Jose Asuncion Silva\n"
          ]
        }
      ]
    },
    {
      "cell_type": "markdown",
      "source": [
        "DECIMO SEPTIMO"
      ],
      "metadata": {
        "id": "uCFm9TcBM_ye"
      }
    },
    {
      "cell_type": "code",
      "source": [
        "New = [3,5,1,9,10,11,32,21,5,1,209,432,1,32,45]\n"
      ],
      "metadata": {
        "id": "CsMDTYIRNDNS"
      },
      "execution_count": 297,
      "outputs": []
    },
    {
      "cell_type": "code",
      "source": [
        "#Agregar un elemento\n",
        "New.append(10)"
      ],
      "metadata": {
        "id": "jxQSoz8zNfQW"
      },
      "execution_count": 298,
      "outputs": []
    },
    {
      "cell_type": "code",
      "source": [
        "#Agregar un elemento\n",
        "New.append(3)"
      ],
      "metadata": {
        "id": "Svv3PSk8OSu3"
      },
      "execution_count": 299,
      "outputs": []
    },
    {
      "cell_type": "code",
      "source": [
        "#Agregar varios elementos\n",
        "New.extend([5,6,7])"
      ],
      "metadata": {
        "id": "eW6K4tZnOXUn"
      },
      "execution_count": 300,
      "outputs": []
    },
    {
      "cell_type": "code",
      "source": [
        "#Eliminar el ultimo elemento\n",
        "New.pop()"
      ],
      "metadata": {
        "colab": {
          "base_uri": "https://localhost:8080/"
        },
        "id": "YSPNB79vOo7I",
        "outputId": "cd6c4848-5f05-45bb-8c5a-bd305d43192d"
      },
      "execution_count": 301,
      "outputs": [
        {
          "output_type": "execute_result",
          "data": {
            "text/plain": [
              "7"
            ]
          },
          "metadata": {},
          "execution_count": 301
        }
      ]
    },
    {
      "cell_type": "code",
      "source": [
        "#Ordenar lista ascendente\n",
        "New.sort()"
      ],
      "metadata": {
        "id": "z4pV1w3COzOc"
      },
      "execution_count": 302,
      "outputs": []
    },
    {
      "cell_type": "code",
      "source": [
        "#Eliminar el ultimo elemento\n",
        "New.pop()"
      ],
      "metadata": {
        "colab": {
          "base_uri": "https://localhost:8080/"
        },
        "id": "6galDnkjRf80",
        "outputId": "47d6c2a7-a71d-4f7f-aaf2-215fbd3482c2"
      },
      "execution_count": 303,
      "outputs": [
        {
          "output_type": "execute_result",
          "data": {
            "text/plain": [
              "432"
            ]
          },
          "metadata": {},
          "execution_count": 303
        }
      ]
    },
    {
      "cell_type": "code",
      "source": [
        "#Ordenar lista descendente\n",
        "New.sort(reverse=True)"
      ],
      "metadata": {
        "id": "LLr6L7lxO7PO"
      },
      "execution_count": 304,
      "outputs": []
    },
    {
      "cell_type": "code",
      "source": [
        "#Eliminar posicion 10\n",
        "New.pop(10)"
      ],
      "metadata": {
        "colab": {
          "base_uri": "https://localhost:8080/"
        },
        "id": "GQHlfV2hPGf8",
        "outputId": "2b29b917-fba5-4a30-d177-cb53af2b34a8"
      },
      "execution_count": 305,
      "outputs": [
        {
          "output_type": "execute_result",
          "data": {
            "text/plain": [
              "5"
            ]
          },
          "metadata": {},
          "execution_count": 305
        }
      ]
    },
    {
      "cell_type": "code",
      "source": [
        "#Agrege el 10\n",
        "New.append(10)"
      ],
      "metadata": {
        "id": "fOEFJ0OGPNWk"
      },
      "execution_count": 306,
      "outputs": []
    },
    {
      "cell_type": "code",
      "source": [
        "#Agrege el 345\n",
        "New.append(345)"
      ],
      "metadata": {
        "id": "us-DPclbPpSy"
      },
      "execution_count": 307,
      "outputs": []
    },
    {
      "cell_type": "code",
      "source": [
        "#Agrege el 1\n",
        "New.append(1)"
      ],
      "metadata": {
        "id": "y3F6pK-1PrVc"
      },
      "execution_count": 308,
      "outputs": []
    },
    {
      "cell_type": "code",
      "source": [
        "#Elimine el 9\n",
        "New.remove(9)"
      ],
      "metadata": {
        "id": "9hFekc_XPt7V"
      },
      "execution_count": 309,
      "outputs": []
    },
    {
      "cell_type": "code",
      "source": [
        "#Invierta el orden de la lista\n",
        "New.reverse()"
      ],
      "metadata": {
        "id": "i36X_EZ4Q1wo"
      },
      "execution_count": 310,
      "outputs": []
    },
    {
      "cell_type": "code",
      "source": [
        "#Organice la lista\n",
        "New.sort()"
      ],
      "metadata": {
        "id": "tIYcsKWmQ86l"
      },
      "execution_count": 311,
      "outputs": []
    },
    {
      "cell_type": "code",
      "source": [
        "New"
      ],
      "metadata": {
        "colab": {
          "base_uri": "https://localhost:8080/"
        },
        "id": "lYv2IqYgS4OB",
        "outputId": "389570f9-dc84-465b-e938-3c9d49a3b420"
      },
      "execution_count": 313,
      "outputs": [
        {
          "output_type": "execute_result",
          "data": {
            "text/plain": [
              "[1, 1, 1, 1, 3, 3, 5, 5, 6, 10, 10, 10, 11, 21, 32, 32, 45, 209, 345]"
            ]
          },
          "metadata": {},
          "execution_count": 313
        }
      ]
    },
    {
      "cell_type": "code",
      "source": [
        "#Numeros pares de la lista al cuadrado\n",
        "for num in New:\n",
        "      \n",
        "    \n",
        "    if num % 2 == 0:\n",
        "       print(num**2, end = \" \")"
      ],
      "metadata": {
        "colab": {
          "base_uri": "https://localhost:8080/"
        },
        "id": "gexC-ePeRA4d",
        "outputId": "7ea7fd22-4f06-4ac5-912d-fe40661d5615"
      },
      "execution_count": 314,
      "outputs": [
        {
          "output_type": "stream",
          "name": "stdout",
          "text": [
            "36 100 100 100 1024 1024 "
          ]
        }
      ]
    },
    {
      "cell_type": "code",
      "source": [
        "#Numeros multiplos de 3 al cubo\n",
        "for num in New:\n",
        "      \n",
        "    \n",
        "    if num % 3 == 0:\n",
        "       print(num**3, end = \" \")"
      ],
      "metadata": {
        "colab": {
          "base_uri": "https://localhost:8080/"
        },
        "id": "lbQgEhkXS9gP",
        "outputId": "a7f213f0-9288-4645-a433-04f228e75180"
      },
      "execution_count": 317,
      "outputs": [
        {
          "output_type": "stream",
          "name": "stdout",
          "text": [
            "27 27 216 9261 91125 41063625 "
          ]
        }
      ]
    },
    {
      "cell_type": "code",
      "source": [
        "#Elimine ultimo elemento\n",
        "New.pop()"
      ],
      "metadata": {
        "colab": {
          "base_uri": "https://localhost:8080/"
        },
        "id": "mCkgJXTcTtd9",
        "outputId": "e90c86d2-aff6-4b0d-bc50-813bd0525e99"
      },
      "execution_count": 318,
      "outputs": [
        {
          "output_type": "execute_result",
          "data": {
            "text/plain": [
              "345"
            ]
          },
          "metadata": {},
          "execution_count": 318
        }
      ]
    },
    {
      "cell_type": "code",
      "source": [
        "#Elimine ultimo elemento\n",
        "New.pop()"
      ],
      "metadata": {
        "colab": {
          "base_uri": "https://localhost:8080/"
        },
        "id": "bGrEW-nZTzaw",
        "outputId": "8a63b284-9e2a-4e3e-d7f5-7c880ca4e182"
      },
      "execution_count": 319,
      "outputs": [
        {
          "output_type": "execute_result",
          "data": {
            "text/plain": [
              "209"
            ]
          },
          "metadata": {},
          "execution_count": 319
        }
      ]
    },
    {
      "cell_type": "code",
      "source": [
        "New"
      ],
      "metadata": {
        "colab": {
          "base_uri": "https://localhost:8080/"
        },
        "id": "eAT916zdT2ZQ",
        "outputId": "28a24d6a-4d41-45b3-810d-4b771baf41d5"
      },
      "execution_count": 320,
      "outputs": [
        {
          "output_type": "execute_result",
          "data": {
            "text/plain": [
              "[1, 1, 1, 1, 3, 3, 5, 5, 6, 10, 10, 10, 11, 21, 32, 32, 45]"
            ]
          },
          "metadata": {},
          "execution_count": 320
        }
      ]
    }
  ]
}